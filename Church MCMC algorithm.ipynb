{
 "metadata": {
  "name": "Church MCMC algorithm"
 },
 "nbformat": 3,
 "nbformat_minor": 0,
 "worksheets": [
  {
   "cells": [
    {
     "cell_type": "heading",
     "level": 2,
     "source": [
      "Church MCMC algorithm"
     ]
    },
    {
     "cell_type": "markdown",
     "source": [
      "### MH acceptance ratio\n",
      "\n",
      "$$ A = \\min \\left ( 1, \\frac{p(s')}{p(s)} \\cdot \\frac{p(s' \\rightarrow s)}{p(s \\rightarrow s')} \\right ) $$\n"
     ]
    },
    {
     "cell_type": "markdown",
     "source": [
      "### MH with (full-resampling) prior proposals\n",
      "\n",
      "$$ A = \\min \\left( 1, \\frac{p(s')}{p(s)} \\cdot \\frac{p(s' \\rightarrow s)}{p(s \\rightarrow s')} \\right ) $$\n",
      "\n",
      "Let $p(s' \\rightarrow s) = p(s)$ and $p(s \\rightarrow s') = p(s')$\n",
      "\n",
      "Then\n",
      "\n",
      "$$ A = \\min \\left (1, 1 \\right ) = 1 $$\n",
      "\n",
      "This proposal will always be accepted.\n"
     ]
    },
    {
     "cell_type": "markdown",
     "source": [
      "### Augmented state space: marking the erp to propose to\n",
      "\n",
      "The unaugmented state space is simply the space of ERPs.\n",
      "\n",
      "This is not sufficient for a valid MCMC sampler in trace space, since there are multiple ways of getting from trace A to trace B: we could have sampled ERP1 that created some structure S1, or ERP 2 that created more structure S2, which includes S1 as a subpart.\n",
      "\n",
      "To avoid this multiple-path problem, we augment the state space with a marker: it marks the ERP to propose to next. Then, there are two kinds of proposals: proposals that changewhich variable is marked, and proposals that resample the marked variable (and its downstream dependencies).\n",
      "\n",
      "We always make these two proposals together:\n",
      "\n",
      "1. Sample a new variable $v'$ to propose to\n",
      "\n",
      "2. Sample a proposal $x'$ for the ERPs"
     ]
    },
    {
     "cell_type": "markdown",
     "source": [
      "### Proposal 1: change which erp is marked as proposable\n",
      "\n",
      "$$ p(s) = p(x) \\cdot \\frac{1}{|x|} $$\n",
      "$$ p(s') = p(x) \\cdot \\frac{1}{|x|} $$\n",
      "\n",
      "$$ p(s \\rightarrow s') = \\frac{1}{|x|} $$\n",
      "$$ p(s' \\rightarrow s) = \\frac{1}{|x|} $$\n",
      "\n",
      "This proposal will always be accepted (see above: full-resampling prior proposals)."
     ]
    },
    {
     "cell_type": "markdown",
     "source": [
      "### Proposal 2: resample the marked erp and dependent structure\n",
      "\n",
      "Let $i_v$ be the index of the erp to propose to.\n",
      "\n",
      "$$ p(s) = p(x) \\cdot \\frac{1}{|x|} $$\n",
      "$$ p(s') = p(x') \\cdot \\frac{1}{|x'|} $$\n",
      "\n",
      "$$ p(s \\rightarrow s') = p(s'|s,i_v) $$\n",
      "$$ p(s' \\rightarrow s) = p(s|s',i_v) $$\n",
      "\n",
      "\\begin{align*}\n",
      "A &= \\min \\left ( 1, \\frac{ p(x') \\cdot 1/|x'| }{ p(x) \\cdot 1/|x| } \\cdot \\frac{ p(s|s',i_v) }{ p(s'|s,i_v) } \\right ) \\\\\n",
      "  &= \\min \\left ( 1, \\frac{ p(x') \\cdot |x| }{ p(x) \\cdot |x'| } \\cdot \\frac{ p(s|s',i_v) }{ p(s'|s,i_v) } \\right ) \\\\\n",
      "  &= \\min \\left ( 1, \\frac{ p(x') }{ p(x) } \\cdot \\frac{|x|}{|x'|} \\cdot \\frac{ p(s|s',i_v) }{ p(s'|s,i_v) } \\right )\n",
      "\\end{align*}  \n",
      "\n",
      "Intuition: If there are more erps in the new state than in the old\n",
      "state, we are less likely to go there. I.e, we prefer states with\n",
      "fewer erps."
     ]
    },
    {
     "cell_type": "markdown",
     "source": [
      "### Forward and backward probabilities: accounting for deleted/added trace structure\n",
      "\n",
      "For any proposal, we can split the ERPs in $x$ and $x'$ into four parts:\n",
      "\n",
      "- $v$, $v'$: the proposed-to ERP\n",
      "- $x_{common}$, $x'_{common}$: ERPs that are both in $x$ and $x'$ (let the proposed-to erp NOT be in this set, so the erp values are the same)\n",
      "- $x'_{fresh}$: ERPs that are in $x'$ but not in $x$\n",
      "- $x_{stale}$: ERPs that are in $x$ but not in $x'$\n",
      "\n",
      "The transition probabilities then are:\n",
      "\n",
      "$$ p(s'|s,i_v) = p(v'|v) \\cdot p(x'_{fresh}) $$\n",
      "\n",
      "$$ p(s|s',i_v) = p(v|v') \\cdot p(x_{stale}) $$"
     ]
    },
    {
     "cell_type": "markdown",
     "source": [
      "### Overall acceptance probability for Church MCMC\n",
      "\n",
      "$$ A = \\min \\left ( 1, \\frac{p(x')}{p(x)} \\cdot \\frac{|x|}{|x'|} \\cdot \\frac{p(v|v')}{p(v'|v)} \\cdot \\frac{p(x.stale)}{p(x'.fresh)} \\right ) $$\n",
      "\n",
      "The two interesting parts are (1) the factor correcting for the changing number of variables and (2) the factor correcting for deleted/added trace parts.\n",
      "\n",
      "If a state $x'$ violates the condition, then $p(x')$ is 0 and the proposal is rejected.\n",
      "\n"
     ]
    }
   ]
  }
 ]
}