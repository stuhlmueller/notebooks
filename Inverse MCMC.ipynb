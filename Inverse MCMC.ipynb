{
 "metadata": {
  "name": "Inverse MCMC"
 },
 "nbformat": 3,
 "nbformat_minor": 0,
 "worksheets": [
  {
   "cells": [
    {
     "cell_type": "markdown",
     "metadata": {},
     "source": [
      "## Inverse MCMC\n",
      "\n",
      "### Motivation\n",
      "\n",
      "In the following, $x$ denotes the ERP variables, $y$ denotes the auxiliary \"higher-level\" variables.\n",
      "\n",
      "We are given $p(x)$, $q(y)$, and $q(x|y)$.\n",
      "\n",
      "Using inverses for importance sampling requires us to additionally specify $p(y|x)$. This choice affects our estimates, and I couldn't find a canonical, easily computable choice for it.\n",
      "\n",
      "This motivates looking into MCMC as an alternative sampling mechanism.\n",
      "\n",
      "In the following, we assume that $q(x|y)$ is deterministic.\n"
     ]
    },
    {
     "cell_type": "markdown",
     "metadata": {},
     "source": [
      "### Church MH\n",
      "\n",
      "The standard MH acceptance ratio is:\n",
      "\n",
      "$$ A = \\min \\left ( 1, \\frac{p(s')}{p(s)} \\frac{p(s' \\rightarrow s)}{p(s \\rightarrow s')} \\right ) $$\n",
      "\n",
      "For Church, the acceptance ratio is:\n",
      "\n",
      "$$ A = \\min \\left ( 1, \\frac{p(x')}{p(x)} \\cdot \\frac{|x|}{|x'|} \\cdot \\frac{p(v|v')}{p(v'|v)} \\cdot \\frac{p(x_{stale})}{p(x'_{fresh})} \\right ) $$\n"
     ]
    },
    {
     "cell_type": "markdown",
     "metadata": {},
     "source": [
      "### Inverse MH\n",
      "\n",
      "The state space now contains the erps $x$, the higher-level variables (subtrees) $y$, and $i_v$, a marker that determines which higher-level variable we can resample.\n",
      "\n",
      "We choose state and proposal probabilities as follows:\n",
      "\n",
      "$$ p(s) = p(x) \\cdot q(y) \\cdot \\frac{1}{|y|} $$\n",
      "$$ p(s') = p(x') \\cdot q(y') \\cdot \\frac{1}{|y'|} $$\n",
      "\n",
      "As in Church, proposals for resampling the marker variable i.v are proposals from the (uniform) prior and hence always accepted. What remains to be discussed is therefore only the transition given such a marker:\n",
      "\n",
      "$$ p(s \\rightarrow s') = p(s'|s, i_v) $$\n",
      "$$ p(s' \\rightarrow s) = p(s|s', i_v) $$\n",
      "\n",
      "We proceed similar to the Church MH algorithm.\n",
      "\n",
      "For any proposal, we can split the higher-level variables y/y' into three parts:\n",
      "\n",
      "- $y_{common}$, $y'_{common}$: vars that are both in $y$ and $y'$ and are not part of the resampled subtree below $v$\n",
      "- $y'_{new.subtree}$: the set of variables that has been freshly sampled below $v'$ (includes $v'$)\n",
      "- $y_{old.subtree}$: the set of variables that has been replaced below $v$ (includes $v$)\n",
      "\n",
      "The transition probabilities are:\n",
      "\n",
      "$$ p(s'|s, i_v) = q(y'_{new.subtree}) $$\n",
      "$$ p(s|s', i_v) = q(y_{old.subtree}) $$\n",
      "\n",
      "The overall acceptance probability is:\n",
      "\n",
      "\\begin{align*}\n",
      "&  \\frac{p(s')}{p(s)} \\cdot \\frac{p(s' \\rightarrow s)}{p(s \\rightarrow s')} \\\\\n",
      "&= \\frac{p(x') \\cdot q(y') \\cdot 1/|y'|} {p(x) \\cdot q(y) \\cdot 1/|y|} \\cdot \\frac{q(y_{old.subtree})}{q(y'_{new.subtree})} \\\\\n",
      "&= \\frac{p(x')}{p(x)} \\cdot \\frac{q(y')}{q(y)} \\cdot \\frac{|y|}{|y'|} \\cdot \\frac{q(y_{old.subtree})}{q(y'_{new.subtree})} \\\\\n",
      "&= \\frac{p(x')}{p(x)} \\cdot \\frac{q(y'_{w.o.new.subtree})}{q(y_{w.o.old.subtree})} \\cdot \\frac{|y|}{|y'|}\n",
      "\\end{align*}\n",
      "\n",
      "$$ A = \\min \\left ( 1, \\frac{p(x')}{p(x)} \\cdot \\frac{q(y')}{q(y)} \\cdot \\frac{|y|}{|y'|} \\cdot \\frac{q(y_{old.subtree})}{q(y'_{new.subtree})} \\right ) $$\n",
      "\n",
      "As in the Church algorithm, if a state $x'$ violates the condition, then $p(x)$ is 0 and we reject."
     ]
    }
   ],
   "metadata": {}
  }
 ]
}